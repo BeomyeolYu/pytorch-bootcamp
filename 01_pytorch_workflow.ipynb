{
 "cells": [
  {
   "cell_type": "markdown",
   "metadata": {},
   "source": [
    "# PyTorch Workflow"
   ]
  },
  {
   "cell_type": "code",
   "execution_count": 1,
   "metadata": {},
   "outputs": [
    {
     "data": {
      "text/plain": [
       "{1: 'data (prepare and load)',\n",
       " 2: 'build the model',\n",
       " 3: 'fitting the model to data (training)',\n",
       " 4: 'making predictions and evaluating the model (inference)',\n",
       " 5: 'saving and loading the model',\n",
       " 6: 'putting it all together'}"
      ]
     },
     "execution_count": 1,
     "metadata": {},
     "output_type": "execute_result"
    }
   ],
   "source": [
    "what_were_covering = {1: \"data (prepare and load)\",\n",
    "                      2: \"build the model\",\n",
    "                      3: \"fitting the model to data (training)\",\n",
    "                      4: \"making predictions and evaluating the model (inference)\",\n",
    "                      5: \"saving and loading the model\",\n",
    "                      6: \"putting it all together\"}\n",
    "\n",
    "what_were_covering"
   ]
  },
  {
   "cell_type": "code",
   "execution_count": 2,
   "metadata": {},
   "outputs": [
    {
     "data": {
      "text/plain": [
       "'1.13.0+cpu'"
      ]
     },
     "execution_count": 2,
     "metadata": {},
     "output_type": "execute_result"
    }
   ],
   "source": [
    "import torch\n",
    "import torch as nn  # Basic building blocks for neural networks graphs\n",
    "import matplotlib.pyplot as plt\n",
    "\n",
    "torch.__version__\n"
   ]
  },
  {
   "cell_type": "markdown",
   "metadata": {},
   "source": [
    "## 1. Data (prepare and load)\n",
    "\n",
    "- Part 1: Get data (e.g., image, voice) into a numerical representation.\n",
    "- Part 2: Build a model to learn patterns in that numerical representation."
   ]
  },
  {
   "cell_type": "code",
   "execution_count": 6,
   "metadata": {},
   "outputs": [
    {
     "data": {
      "text/plain": [
       "(tensor([[0.0000],\n",
       "         [0.0020],\n",
       "         [0.0040],\n",
       "         [0.0060],\n",
       "         [0.0080],\n",
       "         [0.0100],\n",
       "         [0.0120],\n",
       "         [0.0140],\n",
       "         [0.0160],\n",
       "         [0.0180]]),\n",
       " tensor([[0.3000],\n",
       "         [0.3014],\n",
       "         [0.3028],\n",
       "         [0.3042],\n",
       "         [0.3056],\n",
       "         [0.3070],\n",
       "         [0.3084],\n",
       "         [0.3098],\n",
       "         [0.3112],\n",
       "         [0.3126]]))"
      ]
     },
     "execution_count": 6,
     "metadata": {},
     "output_type": "execute_result"
    }
   ],
   "source": [
    "# Create *known* parameters for linear regression\n",
    "weight = 0.7\n",
    "bias = 0.3\n",
    "\n",
    "# Create the data\n",
    "start, interval, end = 0, 0.002, 1\n",
    "X = torch.arange(start, end, interval).unsqueeze(dim=1)\n",
    "y = weight*X + bias  # y_ture for supervised learning; the goal of y_hat\n",
    "\n",
    "X[:10], y[:10]"
   ]
  },
  {
   "cell_type": "code",
   "execution_count": 9,
   "metadata": {},
   "outputs": [
    {
     "data": {
      "text/plain": [
       "(500, 500)"
      ]
     },
     "execution_count": 9,
     "metadata": {},
     "output_type": "execute_result"
    }
   ],
   "source": [
    "len(X), len(y)"
   ]
  },
  {
   "cell_type": "code",
   "execution_count": null,
   "metadata": {},
   "outputs": [],
   "source": []
  }
 ],
 "metadata": {
  "kernelspec": {
   "display_name": "base",
   "language": "python",
   "name": "python3"
  },
  "language_info": {
   "codemirror_mode": {
    "name": "ipython",
    "version": 3
   },
   "file_extension": ".py",
   "mimetype": "text/x-python",
   "name": "python",
   "nbconvert_exporter": "python",
   "pygments_lexer": "ipython3",
   "version": "3.9.7"
  }
 },
 "nbformat": 4,
 "nbformat_minor": 2
}
